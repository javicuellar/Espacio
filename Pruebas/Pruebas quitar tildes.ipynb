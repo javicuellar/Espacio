{
 "cells": [
  {
   "attachments": {},
   "cell_type": "markdown",
   "metadata": {},
   "source": [
    "# Pruebas quitar tildes"
   ]
  },
  {
   "cell_type": "code",
   "execution_count": 1,
   "metadata": {},
   "outputs": [],
   "source": [
    "import pandas as pd\n",
    "import sqlite3\n",
    "from datetime import datetime\n",
    "\n",
    "import warnings\n",
    "\n",
    "warnings.filterwarnings(\"ignore\")"
   ]
  },
  {
   "cell_type": "code",
   "execution_count": 3,
   "metadata": {},
   "outputs": [],
   "source": [
    "ruta = 'D:\\\\Python\\\\Espacio\\\\Espacio.db'\n",
    "\n",
    "bd = sqlite3.connect(ruta)\n",
    "sql = 'SELECT * FROM Dispositivos'\n",
    "dispositivo = pd.read_sql_query(sql, bd)\n",
    "sql = 'SELECT * FROM unidades'\n",
    "unidad = pd.read_sql_query(sql, bd)\n",
    "sql = 'SELECT * FROM directorios'\n",
    "directorio = pd.read_sql_query(sql, bd)\n",
    "sql = 'SELECT * FROM ficheros'\n",
    "fichero = pd.read_sql_query(sql, bd)"
   ]
  },
  {
   "attachments": {},
   "cell_type": "markdown",
   "metadata": {},
   "source": [
    "### Filtro de datos y tratamiento de Unidades y Directorios"
   ]
  },
  {
   "cell_type": "code",
   "execution_count": 4,
   "metadata": {},
   "outputs": [],
   "source": [
    "#  Tomamos SOLO los datos del NAS para pruebas\n",
    "ficheros = fichero[fichero['volumen'] == 'PC_JAVI_1_DATA']\n",
    "directorios = directorio[directorio['volumen'] == 'PC_JAVI_1_DATA']"
   ]
  },
  {
   "cell_type": "code",
   "execution_count": null,
   "metadata": {},
   "outputs": [],
   "source": [
    "dir = directorios[directorios['ruta'].str.contains('á')]"
   ]
  },
  {
   "cell_type": "code",
   "execution_count": 13,
   "metadata": {},
   "outputs": [
    {
     "data": {
      "text/html": [
       "<div>\n",
       "<style scoped>\n",
       "    .dataframe tbody tr th:only-of-type {\n",
       "        vertical-align: middle;\n",
       "    }\n",
       "\n",
       "    .dataframe tbody tr th {\n",
       "        vertical-align: top;\n",
       "    }\n",
       "\n",
       "    .dataframe thead th {\n",
       "        text-align: right;\n",
       "    }\n",
       "</style>\n",
       "<table border=\"1\" class=\"dataframe\">\n",
       "  <thead>\n",
       "    <tr style=\"text-align: right;\">\n",
       "      <th></th>\n",
       "      <th>volumen</th>\n",
       "      <th>ruta</th>\n",
       "    </tr>\n",
       "  </thead>\n",
       "  <tbody>\n",
       "    <tr>\n",
       "      <th>1194077</th>\n",
       "      <td>PC_JAVI_1_DATA</td>\n",
       "      <td>App\\$ Drivers\\One by Wacom (tableta gráfica)</td>\n",
       "    </tr>\n",
       "    <tr>\n",
       "      <th>1194235</th>\n",
       "      <td>PC_JAVI_1_DATA</td>\n",
       "      <td>App\\Ofimática</td>\n",
       "    </tr>\n",
       "    <tr>\n",
       "      <th>1194261</th>\n",
       "      <td>PC_JAVI_1_DATA</td>\n",
       "      <td>App\\S.O\\Windows 10 Portátil Enrique</td>\n",
       "    </tr>\n",
       "    <tr>\n",
       "      <th>1194384</th>\n",
       "      <td>PC_JAVI_1_DATA</td>\n",
       "      <td>Documentos\\Contratos\\2021-10-04 Contrato MyInv...</td>\n",
       "    </tr>\n",
       "    <tr>\n",
       "      <th>1195158</th>\n",
       "      <td>PC_JAVI_1_DATA</td>\n",
       "      <td>Documentos\\Personal\\Informática</td>\n",
       "    </tr>\n",
       "    <tr>\n",
       "      <th>...</th>\n",
       "      <td>...</td>\n",
       "      <td>...</td>\n",
       "    </tr>\n",
       "    <tr>\n",
       "      <th>1196709</th>\n",
       "      <td>PC_JAVI_1_DATA</td>\n",
       "      <td>Informatica\\2023-02 IFCT101PO Planificación Se...</td>\n",
       "    </tr>\n",
       "    <tr>\n",
       "      <th>1196710</th>\n",
       "      <td>PC_JAVI_1_DATA</td>\n",
       "      <td>Informatica\\2023-02 IFCT101PO Planificación Se...</td>\n",
       "    </tr>\n",
       "    <tr>\n",
       "      <th>1199221</th>\n",
       "      <td>PC_JAVI_1_DATA</td>\n",
       "      <td>Python\\Git_Repositorios\\iarobotixyz_Python\\Aná...</td>\n",
       "    </tr>\n",
       "    <tr>\n",
       "      <th>1199515</th>\n",
       "      <td>PC_JAVI_1_DATA</td>\n",
       "      <td>Python\\Guía_Python\\Python_Básico</td>\n",
       "    </tr>\n",
       "    <tr>\n",
       "      <th>1199539</th>\n",
       "      <td>PC_JAVI_1_DATA</td>\n",
       "      <td>Temp\\Cálculo Pensión (Ley Escriva)</td>\n",
       "    </tr>\n",
       "  </tbody>\n",
       "</table>\n",
       "<p>232 rows × 2 columns</p>\n",
       "</div>"
      ],
      "text/plain": [
       "                volumen                                               ruta\n",
       "1194077  PC_JAVI_1_DATA       App\\$ Drivers\\One by Wacom (tableta gráfica)\n",
       "1194235  PC_JAVI_1_DATA                                      App\\Ofimática\n",
       "1194261  PC_JAVI_1_DATA                App\\S.O\\Windows 10 Portátil Enrique\n",
       "1194384  PC_JAVI_1_DATA  Documentos\\Contratos\\2021-10-04 Contrato MyInv...\n",
       "1195158  PC_JAVI_1_DATA                    Documentos\\Personal\\Informática\n",
       "...                 ...                                                ...\n",
       "1196709  PC_JAVI_1_DATA  Informatica\\2023-02 IFCT101PO Planificación Se...\n",
       "1196710  PC_JAVI_1_DATA  Informatica\\2023-02 IFCT101PO Planificación Se...\n",
       "1199221  PC_JAVI_1_DATA  Python\\Git_Repositorios\\iarobotixyz_Python\\Aná...\n",
       "1199515  PC_JAVI_1_DATA                   Python\\Guía_Python\\Python_Básico\n",
       "1199539  PC_JAVI_1_DATA                 Temp\\Cálculo Pensión (Ley Escriva)\n",
       "\n",
       "[232 rows x 2 columns]"
      ]
     },
     "execution_count": 13,
     "metadata": {},
     "output_type": "execute_result"
    }
   ],
   "source": [
    "dir[['volumen', 'ruta']]"
   ]
  }
 ],
 "metadata": {
  "kernelspec": {
   "display_name": "base",
   "language": "python",
   "name": "python3"
  },
  "language_info": {
   "codemirror_mode": {
    "name": "ipython",
    "version": 3
   },
   "file_extension": ".py",
   "mimetype": "text/x-python",
   "name": "python",
   "nbconvert_exporter": "python",
   "pygments_lexer": "ipython3",
   "version": "3.11.3"
  },
  "orig_nbformat": 4
 },
 "nbformat": 4,
 "nbformat_minor": 2
}
